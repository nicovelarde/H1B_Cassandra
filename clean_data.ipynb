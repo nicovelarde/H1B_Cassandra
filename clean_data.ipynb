{
 "cells": [
  {
   "cell_type": "code",
   "execution_count": 7,
   "id": "1e35ab55-1012-4b03-b185-d4b22820e57f",
   "metadata": {
    "tags": []
   },
   "outputs": [
    {
     "name": "stdout",
     "output_type": "stream",
     "text": [
      "['CASE_NUMBER', 'CASE_STATUS', 'RECEIVED_DATE', 'DECISION_DATE', 'ORIGINAL_CERT_DATE', 'VISA_CLASS', 'JOB_TITLE', 'SOC_CODE', 'SOC_TITLE', 'FULL_TIME_POSITION', 'BEGIN_DATE', 'END_DATE', 'TOTAL_WORKER_POSITIONS', 'NEW_EMPLOYMENT', 'CONTINUED_EMPLOYMENT', 'CHANGE_PREVIOUS_EMPLOYMENT', 'NEW_CONCURRENT_EMPLOYMENT', 'CHANGE_EMPLOYER', 'AMENDED_PETITION', 'EMPLOYER_NAME', 'TRADE_NAME_DBA', 'EMPLOYER_ADDRESS1', 'EMPLOYER_ADDRESS2', 'EMPLOYER_CITY', 'EMPLOYER_STATE', 'EMPLOYER_POSTAL_CODE', 'EMPLOYER_COUNTRY', 'EMPLOYER_PROVINCE', 'EMPLOYER_PHONE', 'EMPLOYER_PHONE_EXT', 'NAICS_CODE', 'EMPLOYER_POC_LAST_NAME', 'EMPLOYER_POC_FIRST_NAME', 'EMPLOYER_POC_MIDDLE_NAME', 'EMPLOYER_POC_JOB_TITLE', 'EMPLOYER_POC_ADDRESS1', 'EMPLOYER_POC_ADDRESS2', 'EMPLOYER_POC_CITY', 'EMPLOYER_POC_STATE', 'EMPLOYER_POC_POSTAL_CODE', 'EMPLOYER_POC_COUNTRY', 'EMPLOYER_POC_PROVINCE', 'EMPLOYER_POC_PHONE', 'EMPLOYER_POC_PHONE_EXT', 'EMPLOYER_POC_EMAIL', 'AGENT_REPRESENTING_EMPLOYER', 'AGENT_ATTORNEY_LAST_NAME', 'AGENT_ATTORNEY_FIRST_NAME', 'AGENT_ATTORNEY_MIDDLE_NAME', 'AGENT_ATTORNEY_ADDRESS1', 'AGENT_ATTORNEY_ADDRESS2', 'AGENT_ATTORNEY_CITY', 'AGENT_ATTORNEY_STATE', 'AGENT_ATTORNEY_POSTAL_CODE', 'AGENT_ATTORNEY_COUNTRY', 'AGENT_ATTORNEY_PROVINCE', 'AGENT_ATTORNEY_PHONE', 'AGENT_ATTORNEY_PHONE_EXT', 'AGENT_ATTORNEY_EMAIL_ADDRESS', 'LAWFIRM_NAME_BUSINESS_NAME', 'STATE_OF_HIGHEST_COURT', 'NAME_OF_HIGHEST_STATE_COURT', 'WORKSITE_WORKERS', 'SECONDARY_ENTITY', 'SECONDARY_ENTITY_BUSINESS_NAME', 'WORKSITE_ADDRESS1', 'WORKSITE_ADDRESS2', 'WORKSITE_CITY', 'WORKSITE_COUNTY', 'WORKSITE_STATE', 'WORKSITE_POSTAL_CODE', 'WAGE_RATE_OF_PAY_FROM', 'WAGE_RATE_OF_PAY_TO', 'WAGE_UNIT_OF_PAY', 'PREVAILING_WAGE', 'PW_UNIT_OF_PAY', 'PW_TRACKING_NUMBER', 'PW_WAGE_LEVEL', 'PW_OES_YEAR', 'PW_OTHER_SOURCE', 'PW_OTHER_YEAR', 'PW_SURVEY_PUBLISHER', 'PW_SURVEY_NAME', 'TOTAL_WORKSITE_LOCATIONS', 'AGREE_TO_LC_STATEMENT', 'H_1B_DEPENDENT', 'WILLFUL_VIOLATOR', 'SUPPORT_H1B', 'STATUTORY_BASIS', 'APPENDIX_A_ATTACHED', 'PUBLIC_DISCLOSURE', 'PREPARER_LAST_NAME', 'PREPARER_FIRST_NAME', 'PREPARER_MIDDLE_INITIAL', 'PREPARER_BUSINESS_NAME', 'PREPARER_EMAIL']\n"
     ]
    },
    {
     "name": "stderr",
     "output_type": "stream",
     "text": [
      "C:\\Users\\Owner\\AppData\\Local\\Temp\\ipykernel_6364\\3288962041.py:4: DtypeWarning: Columns (4,70,76,89) have mixed types. Specify dtype option on import or set low_memory=False.\n",
      "  data = pd.read_csv('2023_Q1.csv')\n"
     ]
    }
   ],
   "source": [
    "### import numpy as np\n",
    "import pandas as pd\n",
    "\n",
    "data = pd.read_csv('2023_Q1.csv')\n",
    "df = data.columns.tolist()\n",
    "print(df)\n",
    "\n",
    "h1b_only = data[data['VISA_CLASS'] == 'H-1B']\n",
    "\n",
    "columns_to_keep = ['CASE_NUMBER','CASE_STATUS','RECEIVED_DATE','DECISION_DATE','ORIGINAL_CERT_DATE','VISA_CLASS','JOB_TITLE','SOC_CODE','SOC_TITLE','FULL_TIME_POSITION','BEGIN_DATE','END_DATE','EMPLOYER_NAME','EMPLOYER_ADDRESS1','EMPLOYER_CITY','EMPLOYER_STATE','EMPLOYER_POSTAL_CODE','EMPLOYER_COUNTRY','EMPLOYER_PHONE','NAICS_CODE','AGENT_REPRESENTING_EMPLOYER','LAWFIRM_NAME_BUSINESS_NAME','STATE_OF_HIGHEST_COURT','WORKSITE_ADDRESS1','WORKSITE_CITY','WORKSITE_COUNTY','WORKSITE_STATE,'WORKSITE_POSTAL_CODE','WAGE_RATE_OF_PAY_FROM','WAGE_UNIT_OF_PAY','PREVAILING_WAGE','PW_UNIT_OF_PAY','PW_WAGE_LEVEL','PW_OES_YEAR','TOTAL_WORKSITE_LOCATIONS','AGREE_TO_LC_STATEMENT']\n",
    "print(h1b_only)"
   ]
  },
  {
   "cell_type": "code",
   "execution_count": 11,
   "id": "0dd71a93-707c-408a-a165-c54a7ba1d6cc",
   "metadata": {
    "tags": []
   },
   "outputs": [
    {
     "name": "stderr",
     "output_type": "stream",
     "text": [
      "C:\\Users\\Owner\\AppData\\Local\\Temp\\ipykernel_6364\\3463105264.py:4: DtypeWarning: Columns (4,70,76,89) have mixed types. Specify dtype option on import or set low_memory=False.\n",
      "  data = pd.read_csv('2023_Q1.csv')\n"
     ]
    },
    {
     "name": "stdout",
     "output_type": "stream",
     "text": [
      "CSV file has been created with filtered data.\n"
     ]
    }
   ],
   "source": [
    "import pandas as pd\n",
    "\n",
    "# Load the data from the CSV file\n",
    "data = pd.read_csv('2023_Q1.csv')\n",
    "\n",
    "# Print the list of all columns in the DataFrame\n",
    "df_columns = data.columns.tolist()\n",
    "\n",
    "# Filter rows where VISA_CLASS is 'H-1B'\n",
    "h1b_only = data[data['VISA_CLASS'] == 'H-1B']\n",
    "\n",
    "# Specify the columns you want to keep\n",
    "columns_to_keep = ['CASE_NUMBER','CASE_STATUS','RECEIVED_DATE','DECISION_DATE','JOB_TITLE','SOC_CODE','SOC_TITLE','FULL_TIME_POSITION',\n",
    "                   'BEGIN_DATE','END_DATE','EMPLOYER_NAME','EMPLOYER_ADDRESS1','EMPLOYER_CITY','EMPLOYER_STATE','EMPLOYER_POSTAL_CODE',\n",
    "                   'EMPLOYER_COUNTRY','EMPLOYER_PHONE','NAICS_CODE','AGENT_REPRESENTING_EMPLOYER','LAWFIRM_NAME_BUSINESS_NAME',\n",
    "                   'STATE_OF_HIGHEST_COURT','WORKSITE_ADDRESS1','WORKSITE_CITY','WORKSITE_COUNTY','WORKSITE_STATE',\n",
    "                   'WORKSITE_POSTAL_CODE','WAGE_RATE_OF_PAY_FROM','WAGE_UNIT_OF_PAY','PREVAILING_WAGE','PW_UNIT_OF_PAY','PW_WAGE_LEVEL']\n",
    "\n",
    "# Ensure all column names are properly formatted and corrected\n",
    "columns_to_keep_corrected = [col.replace(' ', '') for col in columns_to_keep]  # This line corrects for any spaces in column names list\n",
    "\n",
    "# Select only the specified columns from the filtered DataFrame\n",
    "final_df = h1b_only[columns_to_keep_corrected]\n",
    "\n",
    "# Save the filtered DataFrame to a new CSV file\n",
    "final_df.to_csv('2023_q1_data.csv', index=False)\n",
    "\n",
    "print(\"CSV file has been created with filtered data.\")\n"
   ]
  },
  {
   "cell_type": "code",
   "execution_count": 12,
   "id": "30be2960-fea2-49ae-b910-eacecb206625",
   "metadata": {
    "tags": []
   },
   "outputs": [
    {
     "name": "stderr",
     "output_type": "stream",
     "text": [
      "C:\\Users\\Owner\\AppData\\Local\\Temp\\ipykernel_6364\\1257674932.py:4: DtypeWarning: Columns (4,70,76,89) have mixed types. Specify dtype option on import or set low_memory=False.\n",
      "  data = pd.read_csv('2023_Q1.csv')\n"
     ]
    },
    {
     "name": "stdout",
     "output_type": "stream",
     "text": [
      "['CASE_NUMBER', 'CASE_STATUS', 'RECEIVED_DATE', 'DECISION_DATE', 'ORIGINAL_CERT_DATE', 'VISA_CLASS', 'JOB_TITLE', 'SOC_CODE', 'SOC_TITLE', 'FULL_TIME_POSITION', 'BEGIN_DATE', 'END_DATE', 'TOTAL_WORKER_POSITIONS', 'NEW_EMPLOYMENT', 'CONTINUED_EMPLOYMENT', 'CHANGE_PREVIOUS_EMPLOYMENT', 'NEW_CONCURRENT_EMPLOYMENT', 'CHANGE_EMPLOYER', 'AMENDED_PETITION', 'EMPLOYER_NAME', 'TRADE_NAME_DBA', 'EMPLOYER_ADDRESS1', 'EMPLOYER_ADDRESS2', 'EMPLOYER_CITY', 'EMPLOYER_STATE', 'EMPLOYER_POSTAL_CODE', 'EMPLOYER_COUNTRY', 'EMPLOYER_PROVINCE', 'EMPLOYER_PHONE', 'EMPLOYER_PHONE_EXT', 'NAICS_CODE', 'EMPLOYER_POC_LAST_NAME', 'EMPLOYER_POC_FIRST_NAME', 'EMPLOYER_POC_MIDDLE_NAME', 'EMPLOYER_POC_JOB_TITLE', 'EMPLOYER_POC_ADDRESS1', 'EMPLOYER_POC_ADDRESS2', 'EMPLOYER_POC_CITY', 'EMPLOYER_POC_STATE', 'EMPLOYER_POC_POSTAL_CODE', 'EMPLOYER_POC_COUNTRY', 'EMPLOYER_POC_PROVINCE', 'EMPLOYER_POC_PHONE', 'EMPLOYER_POC_PHONE_EXT', 'EMPLOYER_POC_EMAIL', 'AGENT_REPRESENTING_EMPLOYER', 'AGENT_ATTORNEY_LAST_NAME', 'AGENT_ATTORNEY_FIRST_NAME', 'AGENT_ATTORNEY_MIDDLE_NAME', 'AGENT_ATTORNEY_ADDRESS1', 'AGENT_ATTORNEY_ADDRESS2', 'AGENT_ATTORNEY_CITY', 'AGENT_ATTORNEY_STATE', 'AGENT_ATTORNEY_POSTAL_CODE', 'AGENT_ATTORNEY_COUNTRY', 'AGENT_ATTORNEY_PROVINCE', 'AGENT_ATTORNEY_PHONE', 'AGENT_ATTORNEY_PHONE_EXT', 'AGENT_ATTORNEY_EMAIL_ADDRESS', 'LAWFIRM_NAME_BUSINESS_NAME', 'STATE_OF_HIGHEST_COURT', 'NAME_OF_HIGHEST_STATE_COURT', 'WORKSITE_WORKERS', 'SECONDARY_ENTITY', 'SECONDARY_ENTITY_BUSINESS_NAME', 'WORKSITE_ADDRESS1', 'WORKSITE_ADDRESS2', 'WORKSITE_CITY', 'WORKSITE_COUNTY', 'WORKSITE_STATE', 'WORKSITE_POSTAL_CODE', 'WAGE_RATE_OF_PAY_FROM', 'WAGE_RATE_OF_PAY_TO', 'WAGE_UNIT_OF_PAY', 'PREVAILING_WAGE', 'PW_UNIT_OF_PAY', 'PW_TRACKING_NUMBER', 'PW_WAGE_LEVEL', 'PW_OES_YEAR', 'PW_OTHER_SOURCE', 'PW_OTHER_YEAR', 'PW_SURVEY_PUBLISHER', 'PW_SURVEY_NAME', 'TOTAL_WORKSITE_LOCATIONS', 'AGREE_TO_LC_STATEMENT', 'H_1B_DEPENDENT', 'WILLFUL_VIOLATOR', 'SUPPORT_H1B', 'STATUTORY_BASIS', 'APPENDIX_A_ATTACHED', 'PUBLIC_DISCLOSURE', 'PREPARER_LAST_NAME', 'PREPARER_FIRST_NAME', 'PREPARER_MIDDLE_INITIAL', 'PREPARER_BUSINESS_NAME', 'PREPARER_EMAIL']\n"
     ]
    },
    {
     "name": "stderr",
     "output_type": "stream",
     "text": [
      "C:\\Users\\Owner\\AppData\\Local\\Temp\\ipykernel_6364\\1257674932.py:27: SettingWithCopyWarning: \n",
      "A value is trying to be set on a copy of a slice from a DataFrame.\n",
      "Try using .loc[row_indexer,col_indexer] = value instead\n",
      "\n",
      "See the caveats in the documentation: https://pandas.pydata.org/pandas-docs/stable/user_guide/indexing.html#returning-a-view-versus-a-copy\n",
      "  final_df['APP_YEAR'] = 2023\n",
      "C:\\Users\\Owner\\AppData\\Local\\Temp\\ipykernel_6364\\1257674932.py:28: SettingWithCopyWarning: \n",
      "A value is trying to be set on a copy of a slice from a DataFrame.\n",
      "Try using .loc[row_indexer,col_indexer] = value instead\n",
      "\n",
      "See the caveats in the documentation: https://pandas.pydata.org/pandas-docs/stable/user_guide/indexing.html#returning-a-view-versus-a-copy\n",
      "  final_df['QUARTER'] = 'Q1'\n"
     ]
    },
    {
     "name": "stdout",
     "output_type": "stream",
     "text": [
      "CSV file has been created with filtered data including new columns for APP_YEAR and QUARTER.\n"
     ]
    }
   ],
   "source": [
    "import pandas as pd\n",
    "\n",
    "# Load the data from the CSV file\n",
    "data = pd.read_csv('2023_Q1.csv')\n",
    "\n",
    "# Print the list of all columns in the DataFrame\n",
    "df_columns = data.columns.tolist()\n",
    "\n",
    "# Filter rows where VISA_CLASS is 'H-1B'\n",
    "h1b_only = data[data['VISA_CLASS'] == 'H-1B']\n",
    "\n",
    "# Specify the columns you want to keep\n",
    "columns_to_keep = ['CASE_NUMBER', 'CASE_STATUS', 'RECEIVED_DATE', 'DECISION_DATE', 'JOB_TITLE', 'SOC_CODE', 'SOC_TITLE', 'FULL_TIME_POSITION',\n",
    "                   'BEGIN_DATE', 'END_DATE', 'EMPLOYER_NAME', 'EMPLOYER_ADDRESS1', 'EMPLOYER_CITY', 'EMPLOYER_STATE', 'EMPLOYER_POSTAL_CODE',\n",
    "                   'EMPLOYER_COUNTRY', 'EMPLOYER_PHONE', 'NAICS_CODE', 'AGENT_REPRESENTING_EMPLOYER', 'LAWFIRM_NAME_BUSINESS_NAME',\n",
    "                   'STATE_OF_HIGHEST_COURT', 'WORKSITE_ADDRESS1', 'WORKSITE_CITY', 'WORKSITE_COUNTY', 'WORKSITE_STATE',\n",
    "                   'WORKSITE_POSTAL_CODE', 'WAGE_RATE_OF_PAY_FROM', 'WAGE_UNIT_OF_PAY', 'PREVAILING_WAGE', 'PW_UNIT_OF_PAY', 'PW_WAGE_LEVEL']\n",
    "\n",
    "# Ensure all column names are properly formatted and corrected\n",
    "columns_to_keep_corrected = [col.replace(' ', '') for col in columns_to_keep]  # This line corrects for any spaces in column names list\n",
    "\n",
    "# Select only the specified columns from the filtered DataFrame\n",
    "final_df = h1b_only[columns_to_keep_corrected]\n",
    "\n",
    "# Add new columns 'APP_YEAR' and 'QUARTER' with the values '2023' and 'Q1' respectively for all rows\n",
    "final_df['APP_YEAR'] = 2023\n",
    "final_df['QUARTER'] = 'Q1'\n",
    "\n",
    "# Save the filtered DataFrame to a new CSV file\n",
    "final_df.to_csv('2023_q1_data.csv', index=False)\n",
    "\n",
    "print(\"CSV file has been created with filtered data including new columns for APP_YEAR and QUARTER.\")\n"
   ]
  },
  {
   "cell_type": "code",
   "execution_count": 13,
   "id": "603a3d72-2b7c-4a65-b565-2550fccf3dc5",
   "metadata": {
    "tags": []
   },
   "outputs": [
    {
     "name": "stderr",
     "output_type": "stream",
     "text": [
      "C:\\Users\\Owner\\AppData\\Local\\Temp\\ipykernel_6364\\1649975852.py:4: DtypeWarning: Columns (89) have mixed types. Specify dtype option on import or set low_memory=False.\n",
      "  data = pd.read_csv('2023_Q2.csv')\n",
      "C:\\Users\\Owner\\AppData\\Local\\Temp\\ipykernel_6364\\1649975852.py:26: SettingWithCopyWarning: \n",
      "A value is trying to be set on a copy of a slice from a DataFrame.\n",
      "Try using .loc[row_indexer,col_indexer] = value instead\n",
      "\n",
      "See the caveats in the documentation: https://pandas.pydata.org/pandas-docs/stable/user_guide/indexing.html#returning-a-view-versus-a-copy\n",
      "  final_df['APP_YEAR'] = 2023\n",
      "C:\\Users\\Owner\\AppData\\Local\\Temp\\ipykernel_6364\\1649975852.py:27: SettingWithCopyWarning: \n",
      "A value is trying to be set on a copy of a slice from a DataFrame.\n",
      "Try using .loc[row_indexer,col_indexer] = value instead\n",
      "\n",
      "See the caveats in the documentation: https://pandas.pydata.org/pandas-docs/stable/user_guide/indexing.html#returning-a-view-versus-a-copy\n",
      "  final_df['QUARTER'] = 'Q2'\n"
     ]
    },
    {
     "name": "stdout",
     "output_type": "stream",
     "text": [
      "CSV file has been created with filtered data including new columns for APP_YEAR and QUARTER.\n"
     ]
    }
   ],
   "source": [
    "import pandas as pd\n",
    "\n",
    "# Load the data from the CSV file\n",
    "data = pd.read_csv('2023_Q2.csv')\n",
    "\n",
    "# Print the list of all columns in the DataFrame\n",
    "df_columns = data.columns.tolist()\n",
    "\n",
    "# Filter rows where VISA_CLASS is 'H-1B'\n",
    "h1b_only = data[data['VISA_CLASS'] == 'H-1B']\n",
    "\n",
    "# Specify the columns you want to keep\n",
    "columns_to_keep = ['CASE_NUMBER', 'CASE_STATUS', 'RECEIVED_DATE', 'DECISION_DATE', 'JOB_TITLE', 'SOC_CODE', 'SOC_TITLE', 'FULL_TIME_POSITION',\n",
    "                   'BEGIN_DATE', 'END_DATE', 'EMPLOYER_NAME', 'EMPLOYER_ADDRESS1', 'EMPLOYER_CITY', 'EMPLOYER_STATE', 'EMPLOYER_POSTAL_CODE',\n",
    "                   'EMPLOYER_COUNTRY', 'EMPLOYER_PHONE', 'NAICS_CODE', 'AGENT_REPRESENTING_EMPLOYER', 'LAWFIRM_NAME_BUSINESS_NAME',\n",
    "                   'STATE_OF_HIGHEST_COURT', 'WORKSITE_ADDRESS1', 'WORKSITE_CITY', 'WORKSITE_COUNTY', 'WORKSITE_STATE',\n",
    "                   'WORKSITE_POSTAL_CODE', 'WAGE_RATE_OF_PAY_FROM', 'WAGE_UNIT_OF_PAY', 'PREVAILING_WAGE', 'PW_UNIT_OF_PAY', 'PW_WAGE_LEVEL']\n",
    "\n",
    "# Ensure all column names are properly formatted and corrected\n",
    "columns_to_keep_corrected = [col.replace(' ', '') for col in columns_to_keep]  # This line corrects for any spaces in column names list\n",
    "\n",
    "# Select only the specified columns from the filtered DataFrame\n",
    "final_df = h1b_only[columns_to_keep_corrected]\n",
    "\n",
    "# Add new columns 'APP_YEAR' and 'QUARTER' with the values '2023' and 'Q1' respectively for all rows\n",
    "final_df['APP_YEAR'] = 2023\n",
    "final_df['QUARTER'] = 'Q2'\n",
    "\n",
    "# Save the filtered DataFrame to a new CSV file\n",
    "final_df.to_csv('2023_q2_data.csv', index=False)"
   ]
  },
  {
   "cell_type": "code",
   "execution_count": 14,
   "id": "d92ec92d-171c-441c-846c-f0b94242bc14",
   "metadata": {
    "tags": []
   },
   "outputs": [
    {
     "name": "stderr",
     "output_type": "stream",
     "text": [
      "C:\\Users\\Owner\\AppData\\Local\\Temp\\ipykernel_6364\\906240349.py:26: SettingWithCopyWarning: \n",
      "A value is trying to be set on a copy of a slice from a DataFrame.\n",
      "Try using .loc[row_indexer,col_indexer] = value instead\n",
      "\n",
      "See the caveats in the documentation: https://pandas.pydata.org/pandas-docs/stable/user_guide/indexing.html#returning-a-view-versus-a-copy\n",
      "  final_df['APP_YEAR'] = 2023\n",
      "C:\\Users\\Owner\\AppData\\Local\\Temp\\ipykernel_6364\\906240349.py:27: SettingWithCopyWarning: \n",
      "A value is trying to be set on a copy of a slice from a DataFrame.\n",
      "Try using .loc[row_indexer,col_indexer] = value instead\n",
      "\n",
      "See the caveats in the documentation: https://pandas.pydata.org/pandas-docs/stable/user_guide/indexing.html#returning-a-view-versus-a-copy\n",
      "  final_df['QUARTER'] = 'Q3'\n"
     ]
    }
   ],
   "source": [
    "import pandas as pd\n",
    "\n",
    "# Load the data from the CSV file\n",
    "data = pd.read_csv('2023_Q3.csv')\n",
    "\n",
    "# Print the list of all columns in the DataFrame\n",
    "df_columns = data.columns.tolist()\n",
    "\n",
    "# Filter rows where VISA_CLASS is 'H-1B'\n",
    "h1b_only = data[data['VISA_CLASS'] == 'H-1B']\n",
    "\n",
    "# Specify the columns you want to keep\n",
    "columns_to_keep = ['CASE_NUMBER', 'CASE_STATUS', 'RECEIVED_DATE', 'DECISION_DATE', 'JOB_TITLE', 'SOC_CODE', 'SOC_TITLE', 'FULL_TIME_POSITION',\n",
    "                   'BEGIN_DATE', 'END_DATE', 'EMPLOYER_NAME', 'EMPLOYER_ADDRESS1', 'EMPLOYER_CITY', 'EMPLOYER_STATE', 'EMPLOYER_POSTAL_CODE',\n",
    "                   'EMPLOYER_COUNTRY', 'EMPLOYER_PHONE', 'NAICS_CODE', 'AGENT_REPRESENTING_EMPLOYER', 'LAWFIRM_NAME_BUSINESS_NAME',\n",
    "                   'STATE_OF_HIGHEST_COURT', 'WORKSITE_ADDRESS1', 'WORKSITE_CITY', 'WORKSITE_COUNTY', 'WORKSITE_STATE',\n",
    "                   'WORKSITE_POSTAL_CODE', 'WAGE_RATE_OF_PAY_FROM', 'WAGE_UNIT_OF_PAY', 'PREVAILING_WAGE', 'PW_UNIT_OF_PAY', 'PW_WAGE_LEVEL']\n",
    "\n",
    "# Ensure all column names are properly formatted and corrected\n",
    "columns_to_keep_corrected = [col.replace(' ', '') for col in columns_to_keep]  # This line corrects for any spaces in column names list\n",
    "\n",
    "# Select only the specified columns from the filtered DataFrame\n",
    "final_df = h1b_only[columns_to_keep_corrected]\n",
    "\n",
    "# Add new columns 'APP_YEAR' and 'QUARTER' with the values '2023' and 'Q1' respectively for all rows\n",
    "final_df['APP_YEAR'] = 2023\n",
    "final_df['QUARTER'] = 'Q3'\n",
    "\n",
    "# Save the filtered DataFrame to a new CSV file\n",
    "final_df.to_csv('2023_q3_data.csv', index=False)"
   ]
  },
  {
   "cell_type": "code",
   "execution_count": 15,
   "id": "ff68f2bf-4726-4ccf-81ed-224a31a10b13",
   "metadata": {
    "tags": []
   },
   "outputs": [
    {
     "name": "stderr",
     "output_type": "stream",
     "text": [
      "C:\\Users\\Owner\\AppData\\Local\\Temp\\ipykernel_6364\\3747914732.py:26: SettingWithCopyWarning: \n",
      "A value is trying to be set on a copy of a slice from a DataFrame.\n",
      "Try using .loc[row_indexer,col_indexer] = value instead\n",
      "\n",
      "See the caveats in the documentation: https://pandas.pydata.org/pandas-docs/stable/user_guide/indexing.html#returning-a-view-versus-a-copy\n",
      "  final_df['APP_YEAR'] = 2023\n",
      "C:\\Users\\Owner\\AppData\\Local\\Temp\\ipykernel_6364\\3747914732.py:27: SettingWithCopyWarning: \n",
      "A value is trying to be set on a copy of a slice from a DataFrame.\n",
      "Try using .loc[row_indexer,col_indexer] = value instead\n",
      "\n",
      "See the caveats in the documentation: https://pandas.pydata.org/pandas-docs/stable/user_guide/indexing.html#returning-a-view-versus-a-copy\n",
      "  final_df['QUARTER'] = 'Q4'\n"
     ]
    }
   ],
   "source": [
    "import pandas as pd\n",
    "\n",
    "# Load the data from the CSV file\n",
    "data = pd.read_csv('2023_Q4.csv')\n",
    "\n",
    "# Print the list of all columns in the DataFrame\n",
    "df_columns = data.columns.tolist()\n",
    "\n",
    "# Filter rows where VISA_CLASS is 'H-1B'\n",
    "h1b_only = data[data['VISA_CLASS'] == 'H-1B']\n",
    "\n",
    "# Specify the columns you want to keep\n",
    "columns_to_keep = ['CASE_NUMBER', 'CASE_STATUS', 'RECEIVED_DATE', 'DECISION_DATE', 'JOB_TITLE', 'SOC_CODE', 'SOC_TITLE', 'FULL_TIME_POSITION',\n",
    "                   'BEGIN_DATE', 'END_DATE', 'EMPLOYER_NAME', 'EMPLOYER_ADDRESS1', 'EMPLOYER_CITY', 'EMPLOYER_STATE', 'EMPLOYER_POSTAL_CODE',\n",
    "                   'EMPLOYER_COUNTRY', 'EMPLOYER_PHONE', 'NAICS_CODE', 'AGENT_REPRESENTING_EMPLOYER', 'LAWFIRM_NAME_BUSINESS_NAME',\n",
    "                   'STATE_OF_HIGHEST_COURT', 'WORKSITE_ADDRESS1', 'WORKSITE_CITY', 'WORKSITE_COUNTY', 'WORKSITE_STATE',\n",
    "                   'WORKSITE_POSTAL_CODE', 'WAGE_RATE_OF_PAY_FROM', 'WAGE_UNIT_OF_PAY', 'PREVAILING_WAGE', 'PW_UNIT_OF_PAY', 'PW_WAGE_LEVEL']\n",
    "\n",
    "# Ensure all column names are properly formatted and corrected\n",
    "columns_to_keep_corrected = [col.replace(' ', '') for col in columns_to_keep]  # This line corrects for any spaces in column names list\n",
    "\n",
    "# Select only the specified columns from the filtered DataFrame\n",
    "final_df = h1b_only[columns_to_keep_corrected]\n",
    "\n",
    "# Add new columns 'APP_YEAR' and 'QUARTER' with the values '2023' and 'Q1' respectively for all rows\n",
    "final_df['APP_YEAR'] = 2023\n",
    "final_df['QUARTER'] = 'Q4'\n",
    "\n",
    "# Save the filtered DataFrame to a new CSV file\n",
    "final_df.to_csv('2023_q4_data.csv', index=False)"
   ]
  },
  {
   "cell_type": "code",
   "execution_count": 19,
   "id": "505d2bd1-7428-4ea7-939e-142ab394a042",
   "metadata": {
    "tags": []
   },
   "outputs": [
    {
     "name": "stderr",
     "output_type": "stream",
     "text": [
      "C:\\Users\\Owner\\AppData\\Local\\Temp\\ipykernel_6364\\1630153392.py:26: SettingWithCopyWarning: \n",
      "A value is trying to be set on a copy of a slice from a DataFrame.\n",
      "Try using .loc[row_indexer,col_indexer] = value instead\n",
      "\n",
      "See the caveats in the documentation: https://pandas.pydata.org/pandas-docs/stable/user_guide/indexing.html#returning-a-view-versus-a-copy\n",
      "  final_df['APP_YEAR'] = 2022\n",
      "C:\\Users\\Owner\\AppData\\Local\\Temp\\ipykernel_6364\\1630153392.py:27: SettingWithCopyWarning: \n",
      "A value is trying to be set on a copy of a slice from a DataFrame.\n",
      "Try using .loc[row_indexer,col_indexer] = value instead\n",
      "\n",
      "See the caveats in the documentation: https://pandas.pydata.org/pandas-docs/stable/user_guide/indexing.html#returning-a-view-versus-a-copy\n",
      "  final_df['QUARTER'] = 'Q4'\n"
     ]
    }
   ],
   "source": [
    "import pandas as pd\n",
    "\n",
    "# Load the data from the CSV file\n",
    "data = pd.read_csv('2022_Q4.csv')\n",
    "\n",
    "# Print the list of all columns in the DataFrame\n",
    "df_columns = data.columns.tolist()\n",
    "\n",
    "# Filter rows where VISA_CLASS is 'H-1B'\n",
    "h1b_only = data[data['VISA_CLASS'] == 'H-1B']\n",
    "\n",
    "# Specify the columns you want to keep\n",
    "columns_to_keep = ['CASE_NUMBER', 'CASE_STATUS', 'RECEIVED_DATE', 'DECISION_DATE', 'JOB_TITLE', 'SOC_CODE', 'SOC_TITLE', 'FULL_TIME_POSITION',\n",
    "                   'BEGIN_DATE', 'END_DATE', 'EMPLOYER_NAME', 'EMPLOYER_ADDRESS1', 'EMPLOYER_CITY', 'EMPLOYER_STATE', 'EMPLOYER_POSTAL_CODE',\n",
    "                   'EMPLOYER_COUNTRY', 'EMPLOYER_PHONE', 'NAICS_CODE', 'AGENT_REPRESENTING_EMPLOYER', 'LAWFIRM_NAME_BUSINESS_NAME',\n",
    "                   'STATE_OF_HIGHEST_COURT', 'WORKSITE_ADDRESS1', 'WORKSITE_CITY', 'WORKSITE_COUNTY', 'WORKSITE_STATE',\n",
    "                   'WORKSITE_POSTAL_CODE', 'WAGE_RATE_OF_PAY_FROM', 'WAGE_UNIT_OF_PAY', 'PREVAILING_WAGE', 'PW_UNIT_OF_PAY', 'PW_WAGE_LEVEL']\n",
    "\n",
    "# Ensure all column names are properly formatted and corrected\n",
    "columns_to_keep_corrected = [col.replace(' ', '') for col in columns_to_keep]  # This line corrects for any spaces in column names list\n",
    "\n",
    "# Select only the specified columns from the filtered DataFrame\n",
    "final_df = h1b_only[columns_to_keep_corrected]\n",
    "\n",
    "# Add new columns 'APP_YEAR' and 'QUARTER' with the values '2023' and 'Q1' respectively for all rows\n",
    "final_df['APP_YEAR'] = 2022\n",
    "final_df['QUARTER'] = 'Q4'\n",
    "\n",
    "# Save the filtered DataFrame to a new CSV file\n",
    "final_df.to_csv('2022_q4_data.csv', index=False)"
   ]
  },
  {
   "cell_type": "code",
   "execution_count": null,
   "id": "152fcc31-7b69-49d1-b95e-6520fc04b149",
   "metadata": {},
   "outputs": [],
   "source": []
  },
  {
   "cell_type": "code",
   "execution_count": 23,
   "id": "d510ff9d-85f6-48f9-a7ae-4de731b126a9",
   "metadata": {
    "tags": []
   },
   "outputs": [
    {
     "name": "stderr",
     "output_type": "stream",
     "text": [
      "C:\\Users\\Owner\\AppData\\Local\\Temp\\ipykernel_6364\\305309968.py:26: SettingWithCopyWarning: \n",
      "A value is trying to be set on a copy of a slice from a DataFrame.\n",
      "Try using .loc[row_indexer,col_indexer] = value instead\n",
      "\n",
      "See the caveats in the documentation: https://pandas.pydata.org/pandas-docs/stable/user_guide/indexing.html#returning-a-view-versus-a-copy\n",
      "  final_df['APP_YEAR'] = 2021\n",
      "C:\\Users\\Owner\\AppData\\Local\\Temp\\ipykernel_6364\\305309968.py:27: SettingWithCopyWarning: \n",
      "A value is trying to be set on a copy of a slice from a DataFrame.\n",
      "Try using .loc[row_indexer,col_indexer] = value instead\n",
      "\n",
      "See the caveats in the documentation: https://pandas.pydata.org/pandas-docs/stable/user_guide/indexing.html#returning-a-view-versus-a-copy\n",
      "  final_df['QUARTER'] = 'Q4'\n"
     ]
    }
   ],
   "source": [
    "import pandas as pd\n",
    "\n",
    "# Load the data from the CSV file\n",
    "data = pd.read_csv('2021_Q4.csv')\n",
    "\n",
    "# Print the list of all columns in the DataFrame\n",
    "df_columns = data.columns.tolist()\n",
    "\n",
    "# Filter rows where VISA_CLASS is 'H-1B'\n",
    "h1b_only = data[data['VISA_CLASS'] == 'H-1B']\n",
    "\n",
    "# Specify the columns you want to keep\n",
    "columns_to_keep = ['CASE_NUMBER', 'CASE_STATUS', 'RECEIVED_DATE', 'DECISION_DATE', 'JOB_TITLE', 'SOC_CODE', 'SOC_TITLE', 'FULL_TIME_POSITION',\n",
    "                   'BEGIN_DATE', 'END_DATE', 'EMPLOYER_NAME', 'EMPLOYER_ADDRESS1', 'EMPLOYER_CITY', 'EMPLOYER_STATE', 'EMPLOYER_POSTAL_CODE',\n",
    "                   'EMPLOYER_COUNTRY', 'EMPLOYER_PHONE', 'NAICS_CODE', 'AGENT_REPRESENTING_EMPLOYER', 'LAWFIRM_NAME_BUSINESS_NAME',\n",
    "                   'STATE_OF_HIGHEST_COURT', 'WORKSITE_ADDRESS1', 'WORKSITE_CITY', 'WORKSITE_COUNTY', 'WORKSITE_STATE',\n",
    "                   'WORKSITE_POSTAL_CODE', 'WAGE_RATE_OF_PAY_FROM', 'WAGE_UNIT_OF_PAY', 'PREVAILING_WAGE', 'PW_UNIT_OF_PAY', 'PW_WAGE_LEVEL']\n",
    "\n",
    "# Ensure all column names are properly formatted and corrected\n",
    "columns_to_keep_corrected = [col.replace(' ', '') for col in columns_to_keep]  # This line corrects for any spaces in column names list\n",
    "\n",
    "# Select only the specified columns from the filtered DataFrame\n",
    "final_df = h1b_only[columns_to_keep_corrected]\n",
    "\n",
    "# Add new columns 'APP_YEAR' and 'QUARTER' with the values '2023' and 'Q1' respectively for all rows\n",
    "final_df['APP_YEAR'] = 2021\n",
    "final_df['QUARTER'] = 'Q4'\n",
    "\n",
    "# Save the filtered DataFrame to a new CSV file\n",
    "final_df.to_csv('2021_q4_data.csv', index=False)"
   ]
  },
  {
   "cell_type": "code",
   "execution_count": 14,
   "id": "2a9fa315-ce83-480a-8386-5789ce43ce9f",
   "metadata": {
    "tags": []
   },
   "outputs": [
    {
     "name": "stdout",
     "output_type": "stream",
     "text": [
      "CSV file has been created with filtered data including new columns for APP_YEAR and QUARTER.\n"
     ]
    }
   ],
   "source": [
    "import pandas as pd\n",
    "\n",
    "dtype_spec = {\n",
    "    'CASE_NUMBER': str,\n",
    "    'CASE_STATUS': str,\n",
    "    'SOC_CODE': str,\n",
    "    'SOC_TITLE': str,\n",
    "    'EMPLOYER_NAME': str,\n",
    "    'EMPLOYER_ADDRESS1': str,\n",
    "    'EMPLOYER_CITY': str,\n",
    "    'EMPLOYER_STATE': str,\n",
    "    'EMPLOYER_POSTAL_CODE': str,\n",
    "    'EMPLOYER_COUNTRY': str,\n",
    "    'NAICS_CODE': str,\n",
    "    'PREVAILING_WAGE': float,\n",
    "    'PW_UNIT_OF_PAY': str,\n",
    "    'APP_YEAR': int\n",
    "}\n",
    "\n",
    "# Load the data from the CSV file\n",
    "data = pd.read_csv('2023_data_updated.csv')\n",
    "\n",
    "# Specify the columns you want to keep\n",
    "columns_to_keep = ['CASE_NUMBER','CASE_STATUS','SOC_CODE','SOC_TITLE','EMPLOYER_NAME','EMPLOYER_ADDRESS1','EMPLOYER_CITY','EMPLOYER_STATE','EMPLOYER_POSTAL_CODE','EMPLOYER_COUNTRY','NAICS_CODE','PREVAILING_WAGE','PW_UNIT_OF_PAY','APP_YEAR']\n",
    "\n",
    "# Ensure all column names are properly formatted and corrected\n",
    "columns_to_keep_corrected = [col.replace(' ', '') for col in columns_to_keep]  # This line corrects for any spaces in column names list\n",
    "\n",
    "# Select only the specified columns from the filtered DataFrame\n",
    "final_df = data[columns_to_keep_corrected]\n",
    "\n",
    "# Save the filtered DataFrame to a new CSV file\n",
    "final_df.to_csv('2023_data_updated.csv', index=False)\n",
    "\n",
    "print(\"CSV file has been created with filtered data including new columns for APP_YEAR and QUARTER.\")\n"
   ]
  },
  {
   "cell_type": "code",
   "execution_count": 26,
   "id": "117a2243-de9c-4949-919f-304ce09097db",
   "metadata": {
    "tags": []
   },
   "outputs": [
    {
     "name": "stdout",
     "output_type": "stream",
     "text": [
      "CSV file has been created with filtered data including new columns for APP_YEAR and QUARTER.\n"
     ]
    }
   ],
   "source": [
    "import pandas as pd\n",
    "\n",
    "# Define the data types for each column\n",
    "dtype_spec = {\n",
    "    'CASE_NUMBER': str,\n",
    "    'CASE_STATUS': str,\n",
    "    'SOC_CODE': str,\n",
    "    'SOC_TITLE': str,\n",
    "    'EMPLOYER_NAME': str,\n",
    "    'EMPLOYER_ADDRESS1': str,\n",
    "    'EMPLOYER_CITY': str,\n",
    "    'EMPLOYER_STATE': str,\n",
    "    'EMPLOYER_POSTAL_CODE': str,\n",
    "    'EMPLOYER_COUNTRY': str,\n",
    "    'NAICS_CODE': str,\n",
    "    'PREVAILING_WAGE': str,\n",
    "    'PW_UNIT_OF_PAY': str,\n",
    "    'APP_YEAR': int\n",
    "}\n",
    "\n",
    "# Load the data from the CSV file with specified data types\n",
    "data = pd.read_csv('2013_data_updated.csv', dtype=dtype_spec)\n",
    "\n",
    "# Specify the columns you want to keep\n",
    "columns_to_keep = [\n",
    "    'CASE_NUMBER', 'CASE_STATUS', 'SOC_CODE', 'SOC_TITLE', 'EMPLOYER_NAME',\n",
    "    'EMPLOYER_ADDRESS1', 'EMPLOYER_CITY', 'EMPLOYER_STATE', 'EMPLOYER_POSTAL_CODE',\n",
    "    'EMPLOYER_COUNTRY', 'NAICS_CODE', 'PREVAILING_WAGE', 'PW_UNIT_OF_PAY', 'APP_YEAR'\n",
    "]\n",
    "\n",
    "# Ensure all column names are properly formatted and corrected\n",
    "columns_to_keep_corrected = [col.replace(' ', '') for col in columns_to_keep]  # This line corrects for any spaces in column names list\n",
    "\n",
    "# Select only the specified columns from the filtered DataFrame\n",
    "final_df = data[columns_to_keep_corrected]\n",
    "\n",
    "# Save the filtered DataFrame to a new CSV file\n",
    "final_df.to_csv('2013_data.csv', index=False)\n",
    "\n",
    "print(\"CSV file has been created with filtered data including new columns for APP_YEAR and QUARTER.\")\n"
   ]
  },
  {
   "cell_type": "code",
   "execution_count": 27,
   "id": "75fff8f5-e54f-4cb5-8608-0f30096971f2",
   "metadata": {
    "tags": []
   },
   "outputs": [
    {
     "name": "stdout",
     "output_type": "stream",
     "text": [
      "CSV file has been created with filtered data including new columns for APP_YEAR and QUARTER.\n"
     ]
    }
   ],
   "source": [
    "import pandas as pd\n",
    "\n",
    "# Define the data types for each column\n",
    "dtype_spec = {\n",
    "    'CASE_NUMBER': str,\n",
    "    'CASE_STATUS': str,\n",
    "    'SOC_CODE': str,\n",
    "    'SOC_TITLE': str,\n",
    "    'EMPLOYER_NAME': str,\n",
    "    'EMPLOYER_ADDRESS1': str,\n",
    "    'EMPLOYER_CITY': str,\n",
    "    'EMPLOYER_STATE': str,\n",
    "    'EMPLOYER_POSTAL_CODE': str,\n",
    "    'EMPLOYER_COUNTRY': str,\n",
    "    'NAICS_CODE': str,\n",
    "    'PREVAILING_WAGE': str,\n",
    "    'PW_UNIT_OF_PAY': str,\n",
    "    'APP_YEAR': int\n",
    "}\n",
    "\n",
    "# Load the data from the CSV file with specified data types\n",
    "data = pd.read_csv('2015_data_updated.csv', dtype=dtype_spec)\n",
    "\n",
    "# Specify the columns you want to keep\n",
    "columns_to_keep = [\n",
    "    'CASE_NUMBER', 'CASE_STATUS', 'SOC_CODE', 'SOC_TITLE', 'EMPLOYER_NAME',\n",
    "    'EMPLOYER_ADDRESS1', 'EMPLOYER_CITY', 'EMPLOYER_STATE', 'EMPLOYER_POSTAL_CODE',\n",
    "    'EMPLOYER_COUNTRY', 'NAICS_CODE', 'PREVAILING_WAGE', 'PW_UNIT_OF_PAY', 'APP_YEAR'\n",
    "]\n",
    "\n",
    "# Ensure all column names are properly formatted and corrected\n",
    "columns_to_keep_corrected = [col.replace(' ', '') for col in columns_to_keep]  # This line corrects for any spaces in column names list\n",
    "\n",
    "# Select only the specified columns from the filtered DataFrame\n",
    "final_df = data[columns_to_keep_corrected]\n",
    "\n",
    "# Save the filtered DataFrame to a new CSV file\n",
    "final_df.to_csv('2015_data.csv', index=False)\n",
    "\n",
    "print(\"CSV file has been created with filtered data including new columns for APP_YEAR and QUARTER.\")\n"
   ]
  },
  {
   "cell_type": "code",
   "execution_count": 29,
   "id": "ec3282cf-66d9-4d36-9ebf-47544d0116b4",
   "metadata": {
    "tags": []
   },
   "outputs": [
    {
     "name": "stdout",
     "output_type": "stream",
     "text": [
      "CSV file has been created with filtered data including new columns for APP_YEAR and QUARTER.\n"
     ]
    }
   ],
   "source": [
    "import pandas as pd\n",
    "\n",
    "# Define the data types for each column\n",
    "dtype_spec = {\n",
    "    'CASE_NUMBER': str,\n",
    "    'CASE_STATUS': str,\n",
    "    'SOC_CODE': str,\n",
    "    'SOC_TITLE': str,\n",
    "    'EMPLOYER_NAME': str,\n",
    "    'EMPLOYER_ADDRESS1': str,\n",
    "    'EMPLOYER_CITY': str,\n",
    "    'EMPLOYER_STATE': str,\n",
    "    'EMPLOYER_POSTAL_CODE': str,\n",
    "    'EMPLOYER_COUNTRY': str,\n",
    "    'NAICS_CODE': str,\n",
    "    'PREVAILING_WAGE': str,\n",
    "    'PW_UNIT_OF_PAY': str,\n",
    "    'APP_YEAR': int\n",
    "}\n",
    "\n",
    "# Load the data from the CSV file with specified data types\n",
    "data = pd.read_csv('2016_data_updated.csv', dtype=dtype_spec)\n",
    "\n",
    "# Specify the columns you want to keep\n",
    "columns_to_keep = [\n",
    "    'CASE_NUMBER', 'CASE_STATUS', 'SOC_CODE', 'SOC_TITLE', 'EMPLOYER_NAME',\n",
    "    'EMPLOYER_ADDRESS1', 'EMPLOYER_CITY', 'EMPLOYER_STATE', 'EMPLOYER_POSTAL_CODE',\n",
    "    'EMPLOYER_COUNTRY', 'NAICS_CODE', 'PREVAILING_WAGE', 'PW_UNIT_OF_PAY', 'APP_YEAR'\n",
    "]\n",
    "\n",
    "# Ensure all column names are properly formatted and corrected\n",
    "columns_to_keep_corrected = [col.replace(' ', '') for col in columns_to_keep]  # This line corrects for any spaces in column names list\n",
    "\n",
    "# Select only the specified columns from the filtered DataFrame\n",
    "final_df = data[columns_to_keep_corrected]\n",
    "\n",
    "# Save the filtered DataFrame to a new CSV file\n",
    "final_df.to_csv('2016_data.csv', index=False)\n",
    "\n",
    "print(\"CSV file has been created with filtered data including new columns for APP_YEAR and QUARTER.\")\n"
   ]
  },
  {
   "cell_type": "code",
   "execution_count": 31,
   "id": "3bdbe3cb-f1ed-435a-92e2-a139e566c7fe",
   "metadata": {
    "tags": []
   },
   "outputs": [
    {
     "name": "stdout",
     "output_type": "stream",
     "text": [
      "CSV file has been created with filtered data including new columns for APP_YEAR and QUARTER.\n"
     ]
    }
   ],
   "source": [
    "import pandas as pd\n",
    "\n",
    "# Define the data types for each column\n",
    "dtype_spec = {\n",
    "    'CASE_NUMBER': str,\n",
    "    'CASE_STATUS': str,\n",
    "    'SOC_CODE': str,\n",
    "    'SOC_TITLE': str,\n",
    "    'EMPLOYER_NAME': str,\n",
    "    'EMPLOYER_ADDRESS1': str,\n",
    "    'EMPLOYER_CITY': str,\n",
    "    'EMPLOYER_STATE': str,\n",
    "    'EMPLOYER_POSTAL_CODE': str,\n",
    "    'EMPLOYER_COUNTRY': str,\n",
    "    'NAICS_CODE': str,\n",
    "    'PREVAILING_WAGE': str,\n",
    "    'PW_UNIT_OF_PAY': str,\n",
    "    'APP_YEAR': int\n",
    "}\n",
    "\n",
    "# Load the data from the CSV file with specified data types\n",
    "data = pd.read_csv('2017_data_updated.csv', dtype=dtype_spec)\n",
    "\n",
    "# Specify the columns you want to keep\n",
    "columns_to_keep = [\n",
    "    'CASE_NUMBER', 'CASE_STATUS', 'SOC_CODE', 'SOC_TITLE', 'EMPLOYER_NAME',\n",
    "    'EMPLOYER_ADDRESS1', 'EMPLOYER_CITY', 'EMPLOYER_STATE', 'EMPLOYER_POSTAL_CODE',\n",
    "    'EMPLOYER_COUNTRY', 'NAICS_CODE', 'PREVAILING_WAGE', 'PW_UNIT_OF_PAY', 'APP_YEAR'\n",
    "]\n",
    "\n",
    "# Ensure all column names are properly formatted and corrected\n",
    "columns_to_keep_corrected = [col.replace(' ', '') for col in columns_to_keep]  # This line corrects for any spaces in column names list\n",
    "\n",
    "# Select only the specified columns from the filtered DataFrame\n",
    "final_df = data[columns_to_keep_corrected]\n",
    "\n",
    "# Save the filtered DataFrame to a new CSV file\n",
    "final_df.to_csv('2017_data.csv', index=False)\n",
    "\n",
    "print(\"CSV file has been created with filtered data including new columns for APP_YEAR and QUARTER.\")\n"
   ]
  },
  {
   "cell_type": "code",
   "execution_count": 32,
   "id": "b6f5f4d7-8aba-4249-bf53-3fa2122ede83",
   "metadata": {
    "tags": []
   },
   "outputs": [
    {
     "name": "stdout",
     "output_type": "stream",
     "text": [
      "CSV file has been created with filtered data including new columns for APP_YEAR and QUARTER.\n"
     ]
    }
   ],
   "source": [
    "import pandas as pd\n",
    "\n",
    "# Define the data types for each column\n",
    "dtype_spec = {\n",
    "    'CASE_NUMBER': str,\n",
    "    'CASE_STATUS': str,\n",
    "    'SOC_CODE': str,\n",
    "    'SOC_TITLE': str,\n",
    "    'EMPLOYER_NAME': str,\n",
    "    'EMPLOYER_ADDRESS1': str,\n",
    "    'EMPLOYER_CITY': str,\n",
    "    'EMPLOYER_STATE': str,\n",
    "    'EMPLOYER_POSTAL_CODE': str,\n",
    "    'EMPLOYER_COUNTRY': str,\n",
    "    'NAICS_CODE': str,\n",
    "    'PREVAILING_WAGE': str,\n",
    "    'PW_UNIT_OF_PAY': str,\n",
    "    'APP_YEAR': int\n",
    "}\n",
    "\n",
    "# Load the data from the CSV file with specified data types\n",
    "data = pd.read_csv('2018_data_updated.csv', dtype=dtype_spec)\n",
    "\n",
    "# Specify the columns you want to keep\n",
    "columns_to_keep = [\n",
    "    'CASE_NUMBER', 'CASE_STATUS', 'SOC_CODE', 'SOC_TITLE', 'EMPLOYER_NAME',\n",
    "    'EMPLOYER_ADDRESS1', 'EMPLOYER_CITY', 'EMPLOYER_STATE', 'EMPLOYER_POSTAL_CODE',\n",
    "    'EMPLOYER_COUNTRY', 'NAICS_CODE', 'PREVAILING_WAGE', 'PW_UNIT_OF_PAY', 'APP_YEAR'\n",
    "]\n",
    "\n",
    "# Ensure all column names are properly formatted and corrected\n",
    "columns_to_keep_corrected = [col.replace(' ', '') for col in columns_to_keep]  # This line corrects for any spaces in column names list\n",
    "\n",
    "# Select only the specified columns from the filtered DataFrame\n",
    "final_df = data[columns_to_keep_corrected]\n",
    "\n",
    "# Save the filtered DataFrame to a new CSV file\n",
    "final_df.to_csv('2018_data.csv', index=False)\n",
    "\n",
    "print(\"CSV file has been created with filtered data including new columns for APP_YEAR and QUARTER.\")\n"
   ]
  },
  {
   "cell_type": "code",
   "execution_count": 33,
   "id": "9b3957cd-ac09-4006-a0d2-325ab59a0cfa",
   "metadata": {
    "tags": []
   },
   "outputs": [
    {
     "name": "stdout",
     "output_type": "stream",
     "text": [
      "CSV file has been created with filtered data including new columns for APP_YEAR and QUARTER.\n"
     ]
    }
   ],
   "source": [
    "import pandas as pd\n",
    "\n",
    "# Define the data types for each column\n",
    "dtype_spec = {\n",
    "    'CASE_NUMBER': str,\n",
    "    'CASE_STATUS': str,\n",
    "    'SOC_CODE': str,\n",
    "    'SOC_TITLE': str,\n",
    "    'EMPLOYER_NAME': str,\n",
    "    'EMPLOYER_ADDRESS1': str,\n",
    "    'EMPLOYER_CITY': str,\n",
    "    'EMPLOYER_STATE': str,\n",
    "    'EMPLOYER_POSTAL_CODE': str,\n",
    "    'EMPLOYER_COUNTRY': str,\n",
    "    'NAICS_CODE': str,\n",
    "    'PREVAILING_WAGE': str,\n",
    "    'PW_UNIT_OF_PAY': str,\n",
    "    'APP_YEAR': int\n",
    "}\n",
    "\n",
    "# Load the data from the CSV file with specified data types\n",
    "data = pd.read_csv('2019_data_updated.csv', dtype=dtype_spec)\n",
    "\n",
    "# Specify the columns you want to keep\n",
    "columns_to_keep = [\n",
    "    'CASE_NUMBER', 'CASE_STATUS', 'SOC_CODE', 'SOC_TITLE', 'EMPLOYER_NAME',\n",
    "    'EMPLOYER_ADDRESS1', 'EMPLOYER_CITY', 'EMPLOYER_STATE', 'EMPLOYER_POSTAL_CODE',\n",
    "    'EMPLOYER_COUNTRY', 'NAICS_CODE', 'PREVAILING_WAGE', 'PW_UNIT_OF_PAY', 'APP_YEAR'\n",
    "]\n",
    "\n",
    "# Ensure all column names are properly formatted and corrected\n",
    "columns_to_keep_corrected = [col.replace(' ', '') for col in columns_to_keep]  # This line corrects for any spaces in column names list\n",
    "\n",
    "# Select only the specified columns from the filtered DataFrame\n",
    "final_df = data[columns_to_keep_corrected]\n",
    "\n",
    "# Save the filtered DataFrame to a new CSV file\n",
    "final_df.to_csv('2019_data.csv', index=False)\n",
    "\n",
    "print(\"CSV file has been created with filtered data including new columns for APP_YEAR and QUARTER.\")\n"
   ]
  },
  {
   "cell_type": "code",
   "execution_count": 34,
   "id": "7b5e2e4b-9ae1-4eb1-8530-5fcc956a77cb",
   "metadata": {
    "tags": []
   },
   "outputs": [
    {
     "name": "stdout",
     "output_type": "stream",
     "text": [
      "CSV file has been created with filtered data including new columns for APP_YEAR and QUARTER.\n"
     ]
    }
   ],
   "source": [
    "import pandas as pd\n",
    "\n",
    "# Define the data types for each column\n",
    "dtype_spec = {\n",
    "    'CASE_NUMBER': str,\n",
    "    'CASE_STATUS': str,\n",
    "    'SOC_CODE': str,\n",
    "    'SOC_TITLE': str,\n",
    "    'EMPLOYER_NAME': str,\n",
    "    'EMPLOYER_ADDRESS1': str,\n",
    "    'EMPLOYER_CITY': str,\n",
    "    'EMPLOYER_STATE': str,\n",
    "    'EMPLOYER_POSTAL_CODE': str,\n",
    "    'EMPLOYER_COUNTRY': str,\n",
    "    'NAICS_CODE': str,\n",
    "    'PREVAILING_WAGE': str,\n",
    "    'PW_UNIT_OF_PAY': str,\n",
    "    'APP_YEAR': int\n",
    "}\n",
    "\n",
    "# Load the data from the CSV file with specified data types\n",
    "data = pd.read_csv('2020_data_updated.csv', dtype=dtype_spec)\n",
    "\n",
    "# Specify the columns you want to keep\n",
    "columns_to_keep = [\n",
    "    'CASE_NUMBER', 'CASE_STATUS', 'SOC_CODE', 'SOC_TITLE', 'EMPLOYER_NAME',\n",
    "    'EMPLOYER_ADDRESS1', 'EMPLOYER_CITY', 'EMPLOYER_STATE', 'EMPLOYER_POSTAL_CODE',\n",
    "    'EMPLOYER_COUNTRY', 'NAICS_CODE', 'PREVAILING_WAGE', 'PW_UNIT_OF_PAY', 'APP_YEAR'\n",
    "]\n",
    "\n",
    "# Ensure all column names are properly formatted and corrected\n",
    "columns_to_keep_corrected = [col.replace(' ', '') for col in columns_to_keep]  # This line corrects for any spaces in column names list\n",
    "\n",
    "# Select only the specified columns from the filtered DataFrame\n",
    "final_df = data[columns_to_keep_corrected]\n",
    "\n",
    "# Save the filtered DataFrame to a new CSV file\n",
    "final_df.to_csv('2020_data.csv', index=False)\n",
    "\n",
    "print(\"CSV file has been created with filtered data including new columns for APP_YEAR and QUARTER.\")\n"
   ]
  },
  {
   "cell_type": "code",
   "execution_count": 35,
   "id": "e4830db4-dc24-440c-afe1-8f8bed1eb7e4",
   "metadata": {
    "tags": []
   },
   "outputs": [
    {
     "name": "stdout",
     "output_type": "stream",
     "text": [
      "CSV file has been created with filtered data including new columns for APP_YEAR and QUARTER.\n"
     ]
    }
   ],
   "source": [
    "import pandas as pd\n",
    "\n",
    "# Define the data types for each column\n",
    "dtype_spec = {\n",
    "    'CASE_NUMBER': str,\n",
    "    'CASE_STATUS': str,\n",
    "    'SOC_CODE': str,\n",
    "    'SOC_TITLE': str,\n",
    "    'EMPLOYER_NAME': str,\n",
    "    'EMPLOYER_ADDRESS1': str,\n",
    "    'EMPLOYER_CITY': str,\n",
    "    'EMPLOYER_STATE': str,\n",
    "    'EMPLOYER_POSTAL_CODE': str,\n",
    "    'EMPLOYER_COUNTRY': str,\n",
    "    'NAICS_CODE': str,\n",
    "    'PREVAILING_WAGE': str,\n",
    "    'PW_UNIT_OF_PAY': str,\n",
    "    'APP_YEAR': int\n",
    "}\n",
    "\n",
    "# Load the data from the CSV file with specified data types\n",
    "data = pd.read_csv('2021_data_updated.csv', dtype=dtype_spec)\n",
    "\n",
    "# Specify the columns you want to keep\n",
    "columns_to_keep = [\n",
    "    'CASE_NUMBER', 'CASE_STATUS', 'SOC_CODE', 'SOC_TITLE', 'EMPLOYER_NAME',\n",
    "    'EMPLOYER_ADDRESS1', 'EMPLOYER_CITY', 'EMPLOYER_STATE', 'EMPLOYER_POSTAL_CODE',\n",
    "    'EMPLOYER_COUNTRY', 'NAICS_CODE', 'PREVAILING_WAGE', 'PW_UNIT_OF_PAY', 'APP_YEAR'\n",
    "]\n",
    "\n",
    "# Ensure all column names are properly formatted and corrected\n",
    "columns_to_keep_corrected = [col.replace(' ', '') for col in columns_to_keep]  # This line corrects for any spaces in column names list\n",
    "\n",
    "# Select only the specified columns from the filtered DataFrame\n",
    "final_df = data[columns_to_keep_corrected]\n",
    "\n",
    "# Save the filtered DataFrame to a new CSV file\n",
    "final_df.to_csv('2021_data.csv', index=False)\n",
    "\n",
    "print(\"CSV file has been created with filtered data including new columns for APP_YEAR and QUARTER.\")\n"
   ]
  },
  {
   "cell_type": "code",
   "execution_count": 36,
   "id": "5de65b6a-2bf1-4ab0-9eaa-cb90b8c4d5e2",
   "metadata": {
    "tags": []
   },
   "outputs": [
    {
     "name": "stdout",
     "output_type": "stream",
     "text": [
      "CSV file has been created with filtered data including new columns for APP_YEAR and QUARTER.\n"
     ]
    }
   ],
   "source": [
    "import pandas as pd\n",
    "\n",
    "# Define the data types for each column\n",
    "dtype_spec = {\n",
    "    'CASE_NUMBER': str,\n",
    "    'CASE_STATUS': str,\n",
    "    'SOC_CODE': str,\n",
    "    'SOC_TITLE': str,\n",
    "    'EMPLOYER_NAME': str,\n",
    "    'EMPLOYER_ADDRESS1': str,\n",
    "    'EMPLOYER_CITY': str,\n",
    "    'EMPLOYER_STATE': str,\n",
    "    'EMPLOYER_POSTAL_CODE': str,\n",
    "    'EMPLOYER_COUNTRY': str,\n",
    "    'NAICS_CODE': str,\n",
    "    'PREVAILING_WAGE': str,\n",
    "    'PW_UNIT_OF_PAY': str,\n",
    "    'APP_YEAR': int\n",
    "}\n",
    "\n",
    "# Load the data from the CSV file with specified data types\n",
    "data = pd.read_csv('2022_data_updated.csv', dtype=dtype_spec)\n",
    "\n",
    "# Specify the columns you want to keep\n",
    "columns_to_keep = [\n",
    "    'CASE_NUMBER', 'CASE_STATUS', 'SOC_CODE', 'SOC_TITLE', 'EMPLOYER_NAME',\n",
    "    'EMPLOYER_ADDRESS1', 'EMPLOYER_CITY', 'EMPLOYER_STATE', 'EMPLOYER_POSTAL_CODE',\n",
    "    'EMPLOYER_COUNTRY', 'NAICS_CODE', 'PREVAILING_WAGE', 'PW_UNIT_OF_PAY', 'APP_YEAR'\n",
    "]\n",
    "\n",
    "# Ensure all column names are properly formatted and corrected\n",
    "columns_to_keep_corrected = [col.replace(' ', '') for col in columns_to_keep]  # This line corrects for any spaces in column names list\n",
    "\n",
    "# Select only the specified columns from the filtered DataFrame\n",
    "final_df = data[columns_to_keep_corrected]\n",
    "\n",
    "# Save the filtered DataFrame to a new CSV file\n",
    "final_df.to_csv('2022_data.csv', index=False)\n",
    "\n",
    "print(\"CSV file has been created with filtered data including new columns for APP_YEAR and QUARTER.\")\n"
   ]
  },
  {
   "cell_type": "code",
   "execution_count": 37,
   "id": "c8230de6-228b-40e1-a5c9-5a65008589e4",
   "metadata": {
    "tags": []
   },
   "outputs": [
    {
     "name": "stdout",
     "output_type": "stream",
     "text": [
      "CSV file has been created with filtered data including new columns for APP_YEAR and QUARTER.\n"
     ]
    }
   ],
   "source": [
    "import pandas as pd\n",
    "\n",
    "# Define the data types for each column\n",
    "dtype_spec = {\n",
    "    'CASE_NUMBER': str,\n",
    "    'CASE_STATUS': str,\n",
    "    'SOC_CODE': str,\n",
    "    'SOC_TITLE': str,\n",
    "    'EMPLOYER_NAME': str,\n",
    "    'EMPLOYER_ADDRESS1': str,\n",
    "    'EMPLOYER_CITY': str,\n",
    "    'EMPLOYER_STATE': str,\n",
    "    'EMPLOYER_POSTAL_CODE': str,\n",
    "    'EMPLOYER_COUNTRY': str,\n",
    "    'NAICS_CODE': str,\n",
    "    'PREVAILING_WAGE': str,\n",
    "    'PW_UNIT_OF_PAY': str,\n",
    "    'APP_YEAR': int\n",
    "}\n",
    "\n",
    "# Load the data from the CSV file with specified data types\n",
    "data = pd.read_csv('2023_data_updated.csv', dtype=dtype_spec)\n",
    "\n",
    "# Specify the columns you want to keep\n",
    "columns_to_keep = [\n",
    "    'CASE_NUMBER', 'CASE_STATUS', 'SOC_CODE', 'SOC_TITLE', 'EMPLOYER_NAME',\n",
    "    'EMPLOYER_ADDRESS1', 'EMPLOYER_CITY', 'EMPLOYER_STATE', 'EMPLOYER_POSTAL_CODE',\n",
    "    'EMPLOYER_COUNTRY', 'NAICS_CODE', 'PREVAILING_WAGE', 'PW_UNIT_OF_PAY', 'APP_YEAR'\n",
    "]\n",
    "\n",
    "# Ensure all column names are properly formatted and corrected\n",
    "columns_to_keep_corrected = [col.replace(' ', '') for col in columns_to_keep]  # This line corrects for any spaces in column names list\n",
    "\n",
    "# Select only the specified columns from the filtered DataFrame\n",
    "final_df = data[columns_to_keep_corrected]\n",
    "\n",
    "# Save the filtered DataFrame to a new CSV file\n",
    "final_df.to_csv('2023_data.csv', index=False)\n",
    "\n",
    "print(\"CSV file has been created with filtered data including new columns for APP_YEAR and QUARTER.\")\n"
   ]
  },
  {
   "cell_type": "code",
   "execution_count": 17,
   "id": "26e5f4aa-446f-490f-86fc-56fbdcc74047",
   "metadata": {
    "tags": []
   },
   "outputs": [
    {
     "name": "stderr",
     "output_type": "stream",
     "text": [
      "C:\\Users\\Owner\\AppData\\Local\\Temp\\ipykernel_24548\\3674985494.py:4: DtypeWarning: Columns (28) have mixed types. Specify dtype option on import or set low_memory=False.\n",
      "  data = pd.read_csv('2011_data.csv')\n"
     ]
    },
    {
     "name": "stdout",
     "output_type": "stream",
     "text": [
      "CASE_NUMBER                     object\n",
      "CASE_STATUS                     object\n",
      "RECEIVED_DATE                   object\n",
      "DECISION_DATE                   object\n",
      "JOB_TITLE                       object\n",
      "SOC_CODE                        object\n",
      "SOC_TITLE                       object\n",
      "FULL_TIME_POSITION              object\n",
      "BEGIN_DATE                      object\n",
      "END_DATE                        object\n",
      "EMPLOYER_NAME                   object\n",
      "EMPLOYER_ADDRESS1               object\n",
      "EMPLOYER_CITY                   object\n",
      "EMPLOYER_STATE                  object\n",
      "EMPLOYER_POSTAL_CODE            object\n",
      "EMPLOYER_COUNTRY                object\n",
      "EMPLOYER_PHONE                 float64\n",
      "NAICS_CODE                     float64\n",
      "AGENT_REPRESENTING_EMPLOYER    float64\n",
      "LAWFIRM_NAME_BUSINESS_NAME     float64\n",
      "STATE_OF_HIGHEST_COURT         float64\n",
      "WORKSITE_ADDRESS1              float64\n",
      "WORKSITE_CITY                   object\n",
      "WORKSITE_COUNTY                float64\n",
      "WORKSITE_STATE                  object\n",
      "WORKSITE_POSTAL_CODE           float64\n",
      "WAGE_RATE_OF_PAY_FROM          float64\n",
      "WAGE_UNIT_OF_PAY                object\n",
      "PREVAILING_WAGE                 object\n",
      "PW_UNIT_OF_PAY                  object\n",
      "PW_WAGE_LEVEL                  float64\n",
      "APP_YEAR                         int64\n",
      "QUARTER                         object\n",
      "dtype: object\n"
     ]
    }
   ],
   "source": [
    "import pandas as pd\n",
    "\n",
    "# Load the data from the CSV file\n",
    "data = pd.read_csv('2011_data.csv')\n",
    "\n",
    "print(data.dtypes)\n"
   ]
  },
  {
   "cell_type": "code",
   "execution_count": 18,
   "id": "3c3b3751-0d04-4b5c-81a4-4a64f9e54ee8",
   "metadata": {
    "tags": []
   },
   "outputs": [
    {
     "name": "stderr",
     "output_type": "stream",
     "text": [
      "C:\\Users\\Owner\\AppData\\Local\\Temp\\ipykernel_24548\\3674985494.py:4: DtypeWarning: Columns (28) have mixed types. Specify dtype option on import or set low_memory=False.\n",
      "  data = pd.read_csv('2011_data.csv')\n"
     ]
    },
    {
     "name": "stdout",
     "output_type": "stream",
     "text": [
      "CASE_NUMBER                     object\n",
      "CASE_STATUS                     object\n",
      "RECEIVED_DATE                   object\n",
      "DECISION_DATE                   object\n",
      "JOB_TITLE                       object\n",
      "SOC_CODE                        object\n",
      "SOC_TITLE                       object\n",
      "FULL_TIME_POSITION              object\n",
      "BEGIN_DATE                      object\n",
      "END_DATE                        object\n",
      "EMPLOYER_NAME                   object\n",
      "EMPLOYER_ADDRESS1               object\n",
      "EMPLOYER_CITY                   object\n",
      "EMPLOYER_STATE                  object\n",
      "EMPLOYER_POSTAL_CODE            object\n",
      "EMPLOYER_COUNTRY                object\n",
      "EMPLOYER_PHONE                 float64\n",
      "NAICS_CODE                     float64\n",
      "AGENT_REPRESENTING_EMPLOYER    float64\n",
      "LAWFIRM_NAME_BUSINESS_NAME     float64\n",
      "STATE_OF_HIGHEST_COURT         float64\n",
      "WORKSITE_ADDRESS1              float64\n",
      "WORKSITE_CITY                   object\n",
      "WORKSITE_COUNTY                float64\n",
      "WORKSITE_STATE                  object\n",
      "WORKSITE_POSTAL_CODE           float64\n",
      "WAGE_RATE_OF_PAY_FROM          float64\n",
      "WAGE_UNIT_OF_PAY                object\n",
      "PREVAILING_WAGE                 object\n",
      "PW_UNIT_OF_PAY                  object\n",
      "PW_WAGE_LEVEL                  float64\n",
      "APP_YEAR                         int64\n",
      "QUARTER                         object\n",
      "dtype: object\n"
     ]
    }
   ],
   "source": [
    "import pandas as pd\n",
    "\n",
    "# Load the data from the CSV file\n",
    "data = pd.read_csv('2011_data.csv')\n",
    "\n",
    "print(data.dtypes)\n"
   ]
  }
 ],
 "metadata": {
  "kernelspec": {
   "display_name": "Python 3 (ipykernel)",
   "language": "python",
   "name": "python3"
  },
  "language_info": {
   "codemirror_mode": {
    "name": "ipython",
    "version": 3
   },
   "file_extension": ".py",
   "mimetype": "text/x-python",
   "name": "python",
   "nbconvert_exporter": "python",
   "pygments_lexer": "ipython3",
   "version": "3.11.7"
  }
 },
 "nbformat": 4,
 "nbformat_minor": 5
}
